{
 "cells": [
  {
   "cell_type": "markdown",
   "id": "04b569a1",
   "metadata": {},
   "source": [
    "# Imports"
   ]
  },
  {
   "cell_type": "code",
   "execution_count": 42,
   "id": "da20a7ea",
   "metadata": {},
   "outputs": [],
   "source": [
    "import logging\n",
    "import warnings\n",
    "\n",
    "import pandas as pd\n",
    "from ydata_profiling import ProfileReport\n",
    "import matplotlib.pyplot as plt\n",
    "import seaborn as sns\n",
    "from sklearn.preprocessing import MinMaxScaler\n",
    "from sklearn.model_selection import train_test_split\n",
    "from sklearn.metrics import root_mean_squared_error\n",
    "from sklearn.linear_model import LinearRegression\n",
    "\n",
    "from skopt import BayesSearchCV\n",
    "from skopt.space import Real, Categorical, Integer\n",
    "\n",
    "import mlflow"
   ]
  },
  {
   "cell_type": "code",
   "execution_count": 2,
   "id": "3e3f77df",
   "metadata": {},
   "outputs": [],
   "source": [
    "logging.basicConfig(level=logging.INFO)\n",
    "logger = logging.getLogger(__name__)\n",
    "\n",
    "warnings.filterwarnings(\"ignore\")"
   ]
  },
  {
   "cell_type": "code",
   "execution_count": 3,
   "id": "384922dd",
   "metadata": {},
   "outputs": [],
   "source": [
    "%matplotlib inline"
   ]
  },
  {
   "cell_type": "markdown",
   "id": "3680eb05",
   "metadata": {},
   "source": [
    "# Some data exploration"
   ]
  },
  {
   "cell_type": "code",
   "execution_count": 4,
   "id": "55bfd44e",
   "metadata": {},
   "outputs": [
    {
     "data": {
      "text/html": [
       "<div>\n",
       "<style scoped>\n",
       "    .dataframe tbody tr th:only-of-type {\n",
       "        vertical-align: middle;\n",
       "    }\n",
       "\n",
       "    .dataframe tbody tr th {\n",
       "        vertical-align: top;\n",
       "    }\n",
       "\n",
       "    .dataframe thead th {\n",
       "        text-align: right;\n",
       "    }\n",
       "</style>\n",
       "<table border=\"1\" class=\"dataframe\">\n",
       "  <thead>\n",
       "    <tr style=\"text-align: right;\">\n",
       "      <th></th>\n",
       "      <th>feature_0</th>\n",
       "      <th>feature_1</th>\n",
       "      <th>feature_2</th>\n",
       "      <th>feature_3</th>\n",
       "      <th>feature_4</th>\n",
       "      <th>feature_5</th>\n",
       "      <th>feature_6</th>\n",
       "      <th>feature_7</th>\n",
       "      <th>feature_8</th>\n",
       "      <th>feature_9</th>\n",
       "      <th>...</th>\n",
       "      <th>feature_11</th>\n",
       "      <th>feature_12</th>\n",
       "      <th>feature_13</th>\n",
       "      <th>feature_14</th>\n",
       "      <th>feature_15</th>\n",
       "      <th>feature_16</th>\n",
       "      <th>feature_17</th>\n",
       "      <th>feature_18</th>\n",
       "      <th>feature_19</th>\n",
       "      <th>target</th>\n",
       "    </tr>\n",
       "  </thead>\n",
       "  <tbody>\n",
       "    <tr>\n",
       "      <th>0</th>\n",
       "      <td>432.475954</td>\n",
       "      <td>289.373016</td>\n",
       "      <td>481.315600</td>\n",
       "      <td>358.755566</td>\n",
       "      <td>802.659004</td>\n",
       "      <td>176.761177</td>\n",
       "      <td>72.648102</td>\n",
       "      <td>720.969179</td>\n",
       "      <td>36.327684</td>\n",
       "      <td>83.768878</td>\n",
       "      <td>...</td>\n",
       "      <td>4.385848</td>\n",
       "      <td>516.789458</td>\n",
       "      <td>19.624422</td>\n",
       "      <td>13.162440</td>\n",
       "      <td>42.351948</td>\n",
       "      <td>35.920392</td>\n",
       "      <td>20.755984</td>\n",
       "      <td>13.814300</td>\n",
       "      <td>384.497136</td>\n",
       "      <td>14.364922</td>\n",
       "    </tr>\n",
       "    <tr>\n",
       "      <th>1</th>\n",
       "      <td>517.596250</td>\n",
       "      <td>330.448341</td>\n",
       "      <td>585.920055</td>\n",
       "      <td>22.684031</td>\n",
       "      <td>169.813240</td>\n",
       "      <td>335.601640</td>\n",
       "      <td>284.451476</td>\n",
       "      <td>748.101047</td>\n",
       "      <td>73.701438</td>\n",
       "      <td>358.147215</td>\n",
       "      <td>...</td>\n",
       "      <td>5.563334</td>\n",
       "      <td>2.960064</td>\n",
       "      <td>20.721878</td>\n",
       "      <td>17.740184</td>\n",
       "      <td>1.726915</td>\n",
       "      <td>167.576065</td>\n",
       "      <td>75.492679</td>\n",
       "      <td>2.480979</td>\n",
       "      <td>303.710869</td>\n",
       "      <td>19.984801</td>\n",
       "    </tr>\n",
       "    <tr>\n",
       "      <th>2</th>\n",
       "      <td>189.439350</td>\n",
       "      <td>553.888820</td>\n",
       "      <td>165.833790</td>\n",
       "      <td>202.465927</td>\n",
       "      <td>176.695586</td>\n",
       "      <td>321.155049</td>\n",
       "      <td>407.278389</td>\n",
       "      <td>161.245668</td>\n",
       "      <td>282.269025</td>\n",
       "      <td>221.570899</td>\n",
       "      <td>...</td>\n",
       "      <td>4.536947</td>\n",
       "      <td>581.823741</td>\n",
       "      <td>101.695639</td>\n",
       "      <td>0.653592</td>\n",
       "      <td>486.859084</td>\n",
       "      <td>117.491548</td>\n",
       "      <td>6.420465</td>\n",
       "      <td>20.713314</td>\n",
       "      <td>22.651537</td>\n",
       "      <td>12.944351</td>\n",
       "    </tr>\n",
       "    <tr>\n",
       "      <th>3</th>\n",
       "      <td>237.307878</td>\n",
       "      <td>195.894881</td>\n",
       "      <td>416.752252</td>\n",
       "      <td>468.729031</td>\n",
       "      <td>611.693517</td>\n",
       "      <td>301.411711</td>\n",
       "      <td>241.880655</td>\n",
       "      <td>49.597044</td>\n",
       "      <td>122.396821</td>\n",
       "      <td>13.828319</td>\n",
       "      <td>...</td>\n",
       "      <td>5.518968</td>\n",
       "      <td>45.014729</td>\n",
       "      <td>196.350455</td>\n",
       "      <td>47.638515</td>\n",
       "      <td>411.414213</td>\n",
       "      <td>67.142022</td>\n",
       "      <td>115.630943</td>\n",
       "      <td>8.927957</td>\n",
       "      <td>388.240433</td>\n",
       "      <td>14.792440</td>\n",
       "    </tr>\n",
       "    <tr>\n",
       "      <th>4</th>\n",
       "      <td>602.845256</td>\n",
       "      <td>16.103208</td>\n",
       "      <td>221.759979</td>\n",
       "      <td>345.765574</td>\n",
       "      <td>558.588369</td>\n",
       "      <td>276.704241</td>\n",
       "      <td>408.069566</td>\n",
       "      <td>19.390813</td>\n",
       "      <td>138.769765</td>\n",
       "      <td>146.662193</td>\n",
       "      <td>...</td>\n",
       "      <td>2.136214</td>\n",
       "      <td>133.590430</td>\n",
       "      <td>197.634584</td>\n",
       "      <td>26.278027</td>\n",
       "      <td>111.127557</td>\n",
       "      <td>172.181136</td>\n",
       "      <td>85.869642</td>\n",
       "      <td>30.537857</td>\n",
       "      <td>625.931837</td>\n",
       "      <td>11.802634</td>\n",
       "    </tr>\n",
       "  </tbody>\n",
       "</table>\n",
       "<p>5 rows × 21 columns</p>\n",
       "</div>"
      ],
      "text/plain": [
       "    feature_0   feature_1   feature_2   feature_3   feature_4   feature_5  \\\n",
       "0  432.475954  289.373016  481.315600  358.755566  802.659004  176.761177   \n",
       "1  517.596250  330.448341  585.920055   22.684031  169.813240  335.601640   \n",
       "2  189.439350  553.888820  165.833790  202.465927  176.695586  321.155049   \n",
       "3  237.307878  195.894881  416.752252  468.729031  611.693517  301.411711   \n",
       "4  602.845256   16.103208  221.759979  345.765574  558.588369  276.704241   \n",
       "\n",
       "    feature_6   feature_7   feature_8   feature_9  ...  feature_11  \\\n",
       "0   72.648102  720.969179   36.327684   83.768878  ...    4.385848   \n",
       "1  284.451476  748.101047   73.701438  358.147215  ...    5.563334   \n",
       "2  407.278389  161.245668  282.269025  221.570899  ...    4.536947   \n",
       "3  241.880655   49.597044  122.396821   13.828319  ...    5.518968   \n",
       "4  408.069566   19.390813  138.769765  146.662193  ...    2.136214   \n",
       "\n",
       "   feature_12  feature_13  feature_14  feature_15  feature_16  feature_17  \\\n",
       "0  516.789458   19.624422   13.162440   42.351948   35.920392   20.755984   \n",
       "1    2.960064   20.721878   17.740184    1.726915  167.576065   75.492679   \n",
       "2  581.823741  101.695639    0.653592  486.859084  117.491548    6.420465   \n",
       "3   45.014729  196.350455   47.638515  411.414213   67.142022  115.630943   \n",
       "4  133.590430  197.634584   26.278027  111.127557  172.181136   85.869642   \n",
       "\n",
       "   feature_18  feature_19     target  \n",
       "0   13.814300  384.497136  14.364922  \n",
       "1    2.480979  303.710869  19.984801  \n",
       "2   20.713314   22.651537  12.944351  \n",
       "3    8.927957  388.240433  14.792440  \n",
       "4   30.537857  625.931837  11.802634  \n",
       "\n",
       "[5 rows x 21 columns]"
      ]
     },
     "execution_count": 4,
     "metadata": {},
     "output_type": "execute_result"
    }
   ],
   "source": [
    "df = pd.read_csv(\"../data/training_data.csv\")\n",
    "df.head()"
   ]
  },
  {
   "cell_type": "code",
   "execution_count": 5,
   "id": "0217d758",
   "metadata": {},
   "outputs": [
    {
     "data": {
      "text/html": [
       "<div>\n",
       "<style scoped>\n",
       "    .dataframe tbody tr th:only-of-type {\n",
       "        vertical-align: middle;\n",
       "    }\n",
       "\n",
       "    .dataframe tbody tr th {\n",
       "        vertical-align: top;\n",
       "    }\n",
       "\n",
       "    .dataframe thead th {\n",
       "        text-align: right;\n",
       "    }\n",
       "</style>\n",
       "<table border=\"1\" class=\"dataframe\">\n",
       "  <thead>\n",
       "    <tr style=\"text-align: right;\">\n",
       "      <th></th>\n",
       "      <th>feature_0</th>\n",
       "      <th>feature_1</th>\n",
       "      <th>feature_2</th>\n",
       "      <th>feature_3</th>\n",
       "      <th>feature_4</th>\n",
       "      <th>feature_5</th>\n",
       "      <th>feature_6</th>\n",
       "      <th>feature_7</th>\n",
       "      <th>feature_8</th>\n",
       "      <th>feature_9</th>\n",
       "      <th>...</th>\n",
       "      <th>feature_11</th>\n",
       "      <th>feature_12</th>\n",
       "      <th>feature_13</th>\n",
       "      <th>feature_14</th>\n",
       "      <th>feature_15</th>\n",
       "      <th>feature_16</th>\n",
       "      <th>feature_17</th>\n",
       "      <th>feature_18</th>\n",
       "      <th>feature_19</th>\n",
       "      <th>target</th>\n",
       "    </tr>\n",
       "  </thead>\n",
       "  <tbody>\n",
       "    <tr>\n",
       "      <th>count</th>\n",
       "      <td>800.000000</td>\n",
       "      <td>800.000000</td>\n",
       "      <td>800.000000</td>\n",
       "      <td>800.000000</td>\n",
       "      <td>800.000000</td>\n",
       "      <td>800.000000</td>\n",
       "      <td>800.000000</td>\n",
       "      <td>800.000000</td>\n",
       "      <td>800.000000</td>\n",
       "      <td>800.000000</td>\n",
       "      <td>...</td>\n",
       "      <td>800.000000</td>\n",
       "      <td>800.000000</td>\n",
       "      <td>800.000000</td>\n",
       "      <td>800.000000</td>\n",
       "      <td>800.000000</td>\n",
       "      <td>800.000000</td>\n",
       "      <td>800.000000</td>\n",
       "      <td>800.000000</td>\n",
       "      <td>800.000000</td>\n",
       "      <td>800.000000</td>\n",
       "    </tr>\n",
       "    <tr>\n",
       "      <th>mean</th>\n",
       "      <td>468.181612</td>\n",
       "      <td>301.960218</td>\n",
       "      <td>317.132996</td>\n",
       "      <td>283.213456</td>\n",
       "      <td>485.975950</td>\n",
       "      <td>320.953859</td>\n",
       "      <td>217.136330</td>\n",
       "      <td>387.196289</td>\n",
       "      <td>179.485453</td>\n",
       "      <td>196.003058</td>\n",
       "      <td>...</td>\n",
       "      <td>3.372667</td>\n",
       "      <td>479.841915</td>\n",
       "      <td>100.112096</td>\n",
       "      <td>28.334725</td>\n",
       "      <td>277.205999</td>\n",
       "      <td>91.217615</td>\n",
       "      <td>70.927129</td>\n",
       "      <td>27.385266</td>\n",
       "      <td>457.016407</td>\n",
       "      <td>14.631342</td>\n",
       "    </tr>\n",
       "    <tr>\n",
       "      <th>std</th>\n",
       "      <td>270.797415</td>\n",
       "      <td>170.691136</td>\n",
       "      <td>176.501920</td>\n",
       "      <td>157.698215</td>\n",
       "      <td>272.594030</td>\n",
       "      <td>185.157189</td>\n",
       "      <td>123.660691</td>\n",
       "      <td>235.131376</td>\n",
       "      <td>104.059309</td>\n",
       "      <td>111.042671</td>\n",
       "      <td>...</td>\n",
       "      <td>1.986369</td>\n",
       "      <td>276.304197</td>\n",
       "      <td>59.149794</td>\n",
       "      <td>16.105155</td>\n",
       "      <td>167.385930</td>\n",
       "      <td>53.950523</td>\n",
       "      <td>40.588905</td>\n",
       "      <td>15.509062</td>\n",
       "      <td>270.650146</td>\n",
       "      <td>5.089503</td>\n",
       "    </tr>\n",
       "    <tr>\n",
       "      <th>min</th>\n",
       "      <td>0.916648</td>\n",
       "      <td>0.800119</td>\n",
       "      <td>0.173025</td>\n",
       "      <td>0.308823</td>\n",
       "      <td>0.598527</td>\n",
       "      <td>0.997347</td>\n",
       "      <td>0.402436</td>\n",
       "      <td>0.474825</td>\n",
       "      <td>0.727850</td>\n",
       "      <td>0.264253</td>\n",
       "      <td>...</td>\n",
       "      <td>0.004464</td>\n",
       "      <td>1.706240</td>\n",
       "      <td>0.194306</td>\n",
       "      <td>0.222312</td>\n",
       "      <td>1.726915</td>\n",
       "      <td>0.093789</td>\n",
       "      <td>0.072986</td>\n",
       "      <td>0.101761</td>\n",
       "      <td>0.252919</td>\n",
       "      <td>0.279805</td>\n",
       "    </tr>\n",
       "    <tr>\n",
       "      <th>25%</th>\n",
       "      <td>239.330140</td>\n",
       "      <td>157.338244</td>\n",
       "      <td>167.516318</td>\n",
       "      <td>151.302826</td>\n",
       "      <td>250.305362</td>\n",
       "      <td>158.374610</td>\n",
       "      <td>106.876625</td>\n",
       "      <td>195.037853</td>\n",
       "      <td>94.220273</td>\n",
       "      <td>95.052359</td>\n",
       "      <td>...</td>\n",
       "      <td>1.630150</td>\n",
       "      <td>249.560260</td>\n",
       "      <td>48.132939</td>\n",
       "      <td>14.660437</td>\n",
       "      <td>131.516567</td>\n",
       "      <td>44.357970</td>\n",
       "      <td>34.903031</td>\n",
       "      <td>13.815298</td>\n",
       "      <td>221.270792</td>\n",
       "      <td>10.879914</td>\n",
       "    </tr>\n",
       "    <tr>\n",
       "      <th>50%</th>\n",
       "      <td>477.750620</td>\n",
       "      <td>303.257176</td>\n",
       "      <td>326.310194</td>\n",
       "      <td>294.574403</td>\n",
       "      <td>493.470486</td>\n",
       "      <td>328.722464</td>\n",
       "      <td>217.098090</td>\n",
       "      <td>364.124238</td>\n",
       "      <td>173.364771</td>\n",
       "      <td>199.587048</td>\n",
       "      <td>...</td>\n",
       "      <td>3.349497</td>\n",
       "      <td>468.536888</td>\n",
       "      <td>100.247827</td>\n",
       "      <td>27.953146</td>\n",
       "      <td>275.950814</td>\n",
       "      <td>87.484343</td>\n",
       "      <td>74.429675</td>\n",
       "      <td>27.766111</td>\n",
       "      <td>462.153497</td>\n",
       "      <td>14.687955</td>\n",
       "    </tr>\n",
       "    <tr>\n",
       "      <th>75%</th>\n",
       "      <td>704.650292</td>\n",
       "      <td>448.878174</td>\n",
       "      <td>474.484472</td>\n",
       "      <td>415.806162</td>\n",
       "      <td>720.747672</td>\n",
       "      <td>480.076559</td>\n",
       "      <td>327.411334</td>\n",
       "      <td>588.565017</td>\n",
       "      <td>268.790459</td>\n",
       "      <td>291.546642</td>\n",
       "      <td>...</td>\n",
       "      <td>5.024192</td>\n",
       "      <td>713.291136</td>\n",
       "      <td>149.966755</td>\n",
       "      <td>42.514155</td>\n",
       "      <td>423.110446</td>\n",
       "      <td>137.888018</td>\n",
       "      <td>105.484961</td>\n",
       "      <td>40.402938</td>\n",
       "      <td>688.352373</td>\n",
       "      <td>18.224713</td>\n",
       "    </tr>\n",
       "    <tr>\n",
       "      <th>max</th>\n",
       "      <td>940.771543</td>\n",
       "      <td>595.359858</td>\n",
       "      <td>614.271632</td>\n",
       "      <td>549.896216</td>\n",
       "      <td>950.017444</td>\n",
       "      <td>638.199832</td>\n",
       "      <td>426.308251</td>\n",
       "      <td>809.346792</td>\n",
       "      <td>367.084755</td>\n",
       "      <td>384.919108</td>\n",
       "      <td>...</td>\n",
       "      <td>6.859269</td>\n",
       "      <td>979.715063</td>\n",
       "      <td>203.122292</td>\n",
       "      <td>56.467485</td>\n",
       "      <td>566.611509</td>\n",
       "      <td>187.041256</td>\n",
       "      <td>138.675389</td>\n",
       "      <td>53.254740</td>\n",
       "      <td>935.740775</td>\n",
       "      <td>27.360789</td>\n",
       "    </tr>\n",
       "  </tbody>\n",
       "</table>\n",
       "<p>8 rows × 21 columns</p>\n",
       "</div>"
      ],
      "text/plain": [
       "        feature_0   feature_1   feature_2   feature_3   feature_4   feature_5  \\\n",
       "count  800.000000  800.000000  800.000000  800.000000  800.000000  800.000000   \n",
       "mean   468.181612  301.960218  317.132996  283.213456  485.975950  320.953859   \n",
       "std    270.797415  170.691136  176.501920  157.698215  272.594030  185.157189   \n",
       "min      0.916648    0.800119    0.173025    0.308823    0.598527    0.997347   \n",
       "25%    239.330140  157.338244  167.516318  151.302826  250.305362  158.374610   \n",
       "50%    477.750620  303.257176  326.310194  294.574403  493.470486  328.722464   \n",
       "75%    704.650292  448.878174  474.484472  415.806162  720.747672  480.076559   \n",
       "max    940.771543  595.359858  614.271632  549.896216  950.017444  638.199832   \n",
       "\n",
       "        feature_6   feature_7   feature_8   feature_9  ...  feature_11  \\\n",
       "count  800.000000  800.000000  800.000000  800.000000  ...  800.000000   \n",
       "mean   217.136330  387.196289  179.485453  196.003058  ...    3.372667   \n",
       "std    123.660691  235.131376  104.059309  111.042671  ...    1.986369   \n",
       "min      0.402436    0.474825    0.727850    0.264253  ...    0.004464   \n",
       "25%    106.876625  195.037853   94.220273   95.052359  ...    1.630150   \n",
       "50%    217.098090  364.124238  173.364771  199.587048  ...    3.349497   \n",
       "75%    327.411334  588.565017  268.790459  291.546642  ...    5.024192   \n",
       "max    426.308251  809.346792  367.084755  384.919108  ...    6.859269   \n",
       "\n",
       "       feature_12  feature_13  feature_14  feature_15  feature_16  feature_17  \\\n",
       "count  800.000000  800.000000  800.000000  800.000000  800.000000  800.000000   \n",
       "mean   479.841915  100.112096   28.334725  277.205999   91.217615   70.927129   \n",
       "std    276.304197   59.149794   16.105155  167.385930   53.950523   40.588905   \n",
       "min      1.706240    0.194306    0.222312    1.726915    0.093789    0.072986   \n",
       "25%    249.560260   48.132939   14.660437  131.516567   44.357970   34.903031   \n",
       "50%    468.536888  100.247827   27.953146  275.950814   87.484343   74.429675   \n",
       "75%    713.291136  149.966755   42.514155  423.110446  137.888018  105.484961   \n",
       "max    979.715063  203.122292   56.467485  566.611509  187.041256  138.675389   \n",
       "\n",
       "       feature_18  feature_19      target  \n",
       "count  800.000000  800.000000  800.000000  \n",
       "mean    27.385266  457.016407   14.631342  \n",
       "std     15.509062  270.650146    5.089503  \n",
       "min      0.101761    0.252919    0.279805  \n",
       "25%     13.815298  221.270792   10.879914  \n",
       "50%     27.766111  462.153497   14.687955  \n",
       "75%     40.402938  688.352373   18.224713  \n",
       "max     53.254740  935.740775   27.360789  \n",
       "\n",
       "[8 rows x 21 columns]"
      ]
     },
     "execution_count": 5,
     "metadata": {},
     "output_type": "execute_result"
    }
   ],
   "source": [
    "df.describe()"
   ]
  },
  {
   "cell_type": "code",
   "execution_count": 6,
   "id": "689e8f5f",
   "metadata": {},
   "outputs": [
    {
     "name": "stdout",
     "output_type": "stream",
     "text": [
      "<class 'pandas.core.frame.DataFrame'>\n",
      "RangeIndex: 800 entries, 0 to 799\n",
      "Data columns (total 21 columns):\n",
      " #   Column      Non-Null Count  Dtype  \n",
      "---  ------      --------------  -----  \n",
      " 0   feature_0   800 non-null    float64\n",
      " 1   feature_1   800 non-null    float64\n",
      " 2   feature_2   800 non-null    float64\n",
      " 3   feature_3   800 non-null    float64\n",
      " 4   feature_4   800 non-null    float64\n",
      " 5   feature_5   800 non-null    float64\n",
      " 6   feature_6   800 non-null    float64\n",
      " 7   feature_7   800 non-null    float64\n",
      " 8   feature_8   800 non-null    float64\n",
      " 9   feature_9   800 non-null    float64\n",
      " 10  feature_10  800 non-null    float64\n",
      " 11  feature_11  800 non-null    float64\n",
      " 12  feature_12  800 non-null    float64\n",
      " 13  feature_13  800 non-null    float64\n",
      " 14  feature_14  800 non-null    float64\n",
      " 15  feature_15  800 non-null    float64\n",
      " 16  feature_16  800 non-null    float64\n",
      " 17  feature_17  800 non-null    float64\n",
      " 18  feature_18  800 non-null    float64\n",
      " 19  feature_19  800 non-null    float64\n",
      " 20  target      800 non-null    float64\n",
      "dtypes: float64(21)\n",
      "memory usage: 131.4 KB\n"
     ]
    }
   ],
   "source": [
    "df.info()"
   ]
  },
  {
   "cell_type": "code",
   "execution_count": 7,
   "id": "2585dcfa",
   "metadata": {},
   "outputs": [
    {
     "data": {
      "text/plain": [
       "feature_0     0\n",
       "feature_1     0\n",
       "feature_2     0\n",
       "feature_3     0\n",
       "feature_4     0\n",
       "feature_5     0\n",
       "feature_6     0\n",
       "feature_7     0\n",
       "feature_8     0\n",
       "feature_9     0\n",
       "feature_10    0\n",
       "feature_11    0\n",
       "feature_12    0\n",
       "feature_13    0\n",
       "feature_14    0\n",
       "feature_15    0\n",
       "feature_16    0\n",
       "feature_17    0\n",
       "feature_18    0\n",
       "feature_19    0\n",
       "target        0\n",
       "dtype: int64"
      ]
     },
     "execution_count": 7,
     "metadata": {},
     "output_type": "execute_result"
    }
   ],
   "source": [
    "df.isnull().sum()"
   ]
  },
  {
   "cell_type": "markdown",
   "id": "d9709d43",
   "metadata": {},
   "source": [
    "# Data profiling"
   ]
  },
  {
   "cell_type": "code",
   "execution_count": 8,
   "id": "02394315",
   "metadata": {},
   "outputs": [
    {
     "data": {
      "application/vnd.jupyter.widget-view+json": {
       "model_id": "d8ecf354c41a4e2ba6c56cf6bd210b49",
       "version_major": 2,
       "version_minor": 0
      },
      "text/plain": [
       "Summarize dataset:   0%|          | 0/5 [00:00<?, ?it/s]"
      ]
     },
     "metadata": {},
     "output_type": "display_data"
    },
    {
     "name": "stderr",
     "output_type": "stream",
     "text": [
      "100%|██████████| 21/21 [00:00<00:00, 1129.58it/s]\n"
     ]
    },
    {
     "data": {
      "application/vnd.jupyter.widget-view+json": {
       "model_id": "da1a24c01ee04b2296aff10f49b97895",
       "version_major": 2,
       "version_minor": 0
      },
      "text/plain": [
       "Generate report structure:   0%|          | 0/1 [00:00<?, ?it/s]"
      ]
     },
     "metadata": {},
     "output_type": "display_data"
    },
    {
     "data": {
      "application/vnd.jupyter.widget-view+json": {
       "model_id": "18fb637a8cd54facb1351e9fc01e1476",
       "version_major": 2,
       "version_minor": 0
      },
      "text/plain": [
       "Render HTML:   0%|          | 0/1 [00:00<?, ?it/s]"
      ]
     },
     "metadata": {},
     "output_type": "display_data"
    },
    {
     "data": {
      "application/vnd.jupyter.widget-view+json": {
       "model_id": "c3bede951fd34a43b620970f033f28e3",
       "version_major": 2,
       "version_minor": 0
      },
      "text/plain": [
       "Export report to file:   0%|          | 0/1 [00:00<?, ?it/s]"
      ]
     },
     "metadata": {},
     "output_type": "display_data"
    }
   ],
   "source": [
    "# Generate the report\n",
    "profile = ProfileReport(df,title=\"Multivariate Regression Report\")\n",
    "\n",
    "# Save the report to .html\n",
    "profile.to_file(\"multivariate-regression-report.html\")"
   ]
  },
  {
   "cell_type": "markdown",
   "id": "ff2793b8",
   "metadata": {},
   "source": [
    "After reviewing the data profiling, we see:\n",
    "- there are no missing data.\n",
    "- the data distributions do not have long tails, so there are likely no outliers.\n",
    "- Furthermore, the correlation matrix shows that the variables `feature_2`, `feature_9`, `feature_11`, and `feature_13` have a high correlation with the target variable.\n",
    "\n",
    "We will check if we find outliers in the boxplots"
   ]
  },
  {
   "cell_type": "code",
   "execution_count": 9,
   "id": "d95b6420",
   "metadata": {},
   "outputs": [
    {
     "data": {
      "image/png": "[encoded data removed]",
      "text/plain": [
       "<Figure size 1000x600 with 1 Axes>"
      ]
     },
     "metadata": {},
     "output_type": "display_data"
    }
   ],
   "source": [
    "# Boxplot visualization\n",
    "plt.figure(figsize=(10, 6))\n",
    "sns.boxplot(data=df, orient=\"v\")\n",
    "plt.title(\"Boxplots for Outlier Detection\")\n",
    "plt.ylabel(\"Value\")\n",
    "plt.grid(True)\n",
    "plt.show()"
   ]
  },
  {
   "cell_type": "markdown",
   "id": "e60f4a76",
   "metadata": {},
   "source": [
    "We confirm there are no outliers"
   ]
  },
  {
   "cell_type": "markdown",
   "id": "d7b06f3e",
   "metadata": {},
   "source": [
    "# Preprocessing\n",
    "\n",
    "After the EDA, we see that the data doesn't really require very strict preprocessing. That is, we don't have any missing data or outliers, but we do need to apply normalization."
   ]
  },
  {
   "cell_type": "code",
   "execution_count": 10,
   "id": "333e0af5",
   "metadata": {},
   "outputs": [
    {
     "data": {
      "text/html": [
       "<div>\n",
       "<style scoped>\n",
       "    .dataframe tbody tr th:only-of-type {\n",
       "        vertical-align: middle;\n",
       "    }\n",
       "\n",
       "    .dataframe tbody tr th {\n",
       "        vertical-align: top;\n",
       "    }\n",
       "\n",
       "    .dataframe thead th {\n",
       "        text-align: right;\n",
       "    }\n",
       "</style>\n",
       "<table border=\"1\" class=\"dataframe\">\n",
       "  <thead>\n",
       "    <tr style=\"text-align: right;\">\n",
       "      <th></th>\n",
       "      <th>feature_2</th>\n",
       "      <th>feature_9</th>\n",
       "      <th>feature_11</th>\n",
       "      <th>feature_13</th>\n",
       "      <th>target</th>\n",
       "    </tr>\n",
       "  </thead>\n",
       "  <tbody>\n",
       "    <tr>\n",
       "      <th>0</th>\n",
       "      <td>481.315600</td>\n",
       "      <td>83.768878</td>\n",
       "      <td>4.385848</td>\n",
       "      <td>19.624422</td>\n",
       "      <td>14.364922</td>\n",
       "    </tr>\n",
       "    <tr>\n",
       "      <th>1</th>\n",
       "      <td>585.920055</td>\n",
       "      <td>358.147215</td>\n",
       "      <td>5.563334</td>\n",
       "      <td>20.721878</td>\n",
       "      <td>19.984801</td>\n",
       "    </tr>\n",
       "    <tr>\n",
       "      <th>2</th>\n",
       "      <td>165.833790</td>\n",
       "      <td>221.570899</td>\n",
       "      <td>4.536947</td>\n",
       "      <td>101.695639</td>\n",
       "      <td>12.944351</td>\n",
       "    </tr>\n",
       "    <tr>\n",
       "      <th>3</th>\n",
       "      <td>416.752252</td>\n",
       "      <td>13.828319</td>\n",
       "      <td>5.518968</td>\n",
       "      <td>196.350455</td>\n",
       "      <td>14.792440</td>\n",
       "    </tr>\n",
       "    <tr>\n",
       "      <th>4</th>\n",
       "      <td>221.759979</td>\n",
       "      <td>146.662193</td>\n",
       "      <td>2.136214</td>\n",
       "      <td>197.634584</td>\n",
       "      <td>11.802634</td>\n",
       "    </tr>\n",
       "  </tbody>\n",
       "</table>\n",
       "</div>"
      ],
      "text/plain": [
       "    feature_2   feature_9  feature_11  feature_13     target\n",
       "0  481.315600   83.768878    4.385848   19.624422  14.364922\n",
       "1  585.920055  358.147215    5.563334   20.721878  19.984801\n",
       "2  165.833790  221.570899    4.536947  101.695639  12.944351\n",
       "3  416.752252   13.828319    5.518968  196.350455  14.792440\n",
       "4  221.759979  146.662193    2.136214  197.634584  11.802634"
      ]
     },
     "execution_count": 10,
     "metadata": {},
     "output_type": "execute_result"
    }
   ],
   "source": [
    "relevant_features = [\"feature_2\", \"feature_9\", \"feature_11\", \"feature_13\"]\n",
    "target = \"target\"\n",
    "\n",
    "filtered_df = df[relevant_features + [target]]\n",
    "\n",
    "# no null values found, so we don't need to remove them\n",
    "\n",
    "# No outliers found, so we don't need to remove them\n",
    "\n",
    "filtered_df.head()"
   ]
  },
  {
   "cell_type": "code",
   "execution_count": 11,
   "id": "22e35784",
   "metadata": {},
   "outputs": [],
   "source": [
    "X_train, X_test, y_train, y_test = train_test_split(filtered_df.drop(\"target\", axis=1), filtered_df[\"target\"], test_size=0.2)"
   ]
  },
  {
   "cell_type": "code",
   "execution_count": 12,
   "id": "ea83092d",
   "metadata": {},
   "outputs": [],
   "source": [
    "# Normalize the data using MinMaxScaler since the columns are not normally distributed, so we need to preserve the distribution\n",
    "scaler = MinMaxScaler()\n",
    "X_train_scaled = scaler.fit_transform(X_train)\n",
    "X_test_scaled = scaler.transform(X_test)"
   ]
  },
  {
   "cell_type": "code",
   "execution_count": 13,
   "id": "887e8c03",
   "metadata": {},
   "outputs": [
    {
     "data": {
      "text/plain": [
       "array([[0.33335941, 0.92535354, 0.17709374, 0.96861392],\n",
       "       [0.45445555, 0.27573787, 0.47412903, 0.9628326 ],\n",
       "       [0.08022612, 0.52458231, 0.42933915, 0.99959337],\n",
       "       [0.40995878, 0.99402942, 0.25616791, 0.26615411],\n",
       "       [0.84488077, 0.89432957, 0.12289516, 0.60924656]])"
      ]
     },
     "execution_count": 13,
     "metadata": {},
     "output_type": "execute_result"
    }
   ],
   "source": [
    "X_train_scaled[:5]"
   ]
  },
  {
   "cell_type": "markdown",
   "id": "e12c8ac6",
   "metadata": {},
   "source": [
    "# Model training\n",
    "\n",
    "For trcking I will use MLflow, so we can keep record of our experiments and choose the best model with the best params later.\n",
    "\n",
    "Run the following command to launch the mlflow server locally.\n",
    "\n",
    "`mlflow server --backend-store-uri sqlite:///backend.db`\n",
    "\n",
    "Then, run "
   ]
  },
  {
   "cell_type": "code",
   "execution_count": 14,
   "id": "a11d220a",
   "metadata": {},
   "outputs": [],
   "source": [
    "tracking_uri = \"sqlite:///backend.db\"\n",
    "experiment_name = \"multivariate-regression-experiment\""
   ]
  },
  {
   "cell_type": "code",
   "execution_count": 15,
   "id": "54fe2262",
   "metadata": {},
   "outputs": [
    {
     "name": "stderr",
     "output_type": "stream",
     "text": [
      "2025/07/11 21:52:01 INFO mlflow.store.db.utils: Creating initial MLflow database tables...\n",
      "2025/07/11 21:52:01 INFO mlflow.store.db.utils: Updating database tables\n",
      "INFO  [alembic.runtime.migration] Context impl SQLiteImpl.\n",
      "INFO  [alembic.runtime.migration] Will assume non-transactional DDL.\n",
      "INFO  [alembic.runtime.migration] Context impl SQLiteImpl.\n",
      "INFO  [alembic.runtime.migration] Will assume non-transactional DDL.\n"
     ]
    },
    {
     "data": {
      "text/plain": [
       "<Experiment: artifact_location='/Users/cristian/personal/data_projects/multivariate_regression/multivariate-regression/notebooks/mlruns/1', creation_time=1752287737347, experiment_id='1', last_update_time=1752287737347, lifecycle_stage='active', name='multivariate-regression-experiment', tags={}>"
      ]
     },
     "execution_count": 15,
     "metadata": {},
     "output_type": "execute_result"
    }
   ],
   "source": [
    "mlflow.set_tracking_uri(tracking_uri)\n",
    "mlflow.set_experiment(experiment_name)\n",
    "#mlflow.autolog()\n",
    "#mlflow.sklearn.autolog()\n",
    "#mlflow.xgboost.autolog()"
   ]
  },
  {
   "cell_type": "code",
   "execution_count": 24,
   "id": "26c7b201",
   "metadata": {},
   "outputs": [],
   "source": [
    "def display_and_log_metrics(model, name_model, developer, X_train_scaled, y_train, X_test_scaled, y_test, df_train, df_test, use_cv=False):\n",
    "    with mlflow.start_run():\n",
    "        mlflow.set_tag(\"model\", name_model)\n",
    "        mlflow.set_tag(\"developer\", developer)\n",
    "\n",
    "        dataset_train = mlflow.data.from_pandas(df_train, source=\"train\")\n",
    "        dataset_test = mlflow.data.from_pandas(df_test, source=\"test\")\n",
    "\n",
    "        mlflow.log_input(dataset=dataset_train, context=\"training\")\n",
    "        mlflow.log_input(dataset=dataset_test, context=\"testing\")\n",
    "\n",
    "        y_pred_train = model.predict(X_train_scaled)\n",
    "        rmse_train = root_mean_squared_error(y_train, y_pred_train)\n",
    "        r2_train = model.score(X_train_scaled, y_train)\n",
    "\n",
    "        mlflow.log_metric(\"rmse_train\", rmse_train)\n",
    "        mlflow.log_metric(\"r2_train\", r2_train)\n",
    "\n",
    "        logger.info(f\"RMSE train: {rmse_train}\")\n",
    "        logger.info(f\"R2 train: {r2_train}\")\n",
    "\n",
    "        y_pred_test = model.predict(X_test_scaled)\n",
    "        rmse_test = root_mean_squared_error(y_test, y_pred_test)\n",
    "        r2_test = model.score(X_test_scaled, y_test)\n",
    "\n",
    "        mlflow.log_metric(\"rmse_test\", rmse_test)\n",
    "        mlflow.log_metric(\"r2_test\", r2_test)\n",
    "\n",
    "        logger.info(f\"RMSE test: {rmse_test}\")\n",
    "        logger.info(f\"R2 test: {r2_test}\")\n",
    "\n",
    "        try:\n",
    "            if use_cv:\n",
    "                best_params = model.best_params_\n",
    "            else:\n",
    "                best_params = model.get_params()\n",
    "\n",
    "            mlflow.log_params(best_params)\n",
    "\n",
    "        except AttributeError as e:\n",
    "            print(e)\n",
    "        \n",
    "        # The input example automatically generates a signature\n",
    "        mlflow.sklearn.log_model(model, name=f\"model_{name_model}\", input_example=X_train_scaled[0].reshape(1, -1))\n",
    "\n",
    "        # Plot the predictions vs. actual values\n",
    "        plt.scatter(y_test, y_pred_test)\n",
    "        plt.xlabel(\"Actual Values\")\n",
    "        plt.ylabel(\"Predicted Values\")\n",
    "        plt.title(\"Predictions vs. Actual Values\")\n",
    "        plt.show()"
   ]
  },
  {
   "cell_type": "code",
   "execution_count": 39,
   "id": "08d52744",
   "metadata": {},
   "outputs": [],
   "source": [
    "def print_best_score_params(model):\n",
    "    print(\"Best Score: \", model.best_score_)\n",
    "    print(\"Best Hyperparameters: \", model.best_params_)"
   ]
  },
  {
   "cell_type": "markdown",
   "id": "4760e3f9",
   "metadata": {},
   "source": [
    "### Choose model\n",
    "\n",
    "First, we will test different models. After choosing a model, we can apply search grid"
   ]
  },
  {
   "cell_type": "code",
   "execution_count": 40,
   "id": "04712428",
   "metadata": {},
   "outputs": [],
   "source": [
    "train_df = X_train.copy()\n",
    "train_df[\"target\"] = y_train.copy()\n",
    "\n",
    "test_df = X_test.copy()\n",
    "test_df[\"target\"] = y_test.copy()"
   ]
  },
  {
   "cell_type": "markdown",
   "id": "22e87064",
   "metadata": {},
   "source": [
    "#### Linear regression"
   ]
  },
  {
   "cell_type": "code",
   "execution_count": 43,
   "id": "3f264706",
   "metadata": {},
   "outputs": [
    {
     "name": "stdout",
     "output_type": "stream",
     "text": [
      "Fitting 5 folds for each of 1 candidates, totalling 5 fits\n",
      "Fitting 5 folds for each of 1 candidates, totalling 5 fits\n",
      "Fitting 5 folds for each of 1 candidates, totalling 5 fits\n",
      "Fitting 5 folds for each of 1 candidates, totalling 5 fits\n",
      "Fitting 5 folds for each of 1 candidates, totalling 5 fits\n",
      "Fitting 5 folds for each of 1 candidates, totalling 5 fits\n",
      "Fitting 5 folds for each of 1 candidates, totalling 5 fits\n",
      "Fitting 5 folds for each of 1 candidates, totalling 5 fits\n",
      "Fitting 5 folds for each of 1 candidates, totalling 5 fits\n",
      "Fitting 5 folds for each of 1 candidates, totalling 5 fits\n",
      "Fitting 5 folds for each of 1 candidates, totalling 5 fits\n",
      "Fitting 5 folds for each of 1 candidates, totalling 5 fits\n",
      "Fitting 5 folds for each of 1 candidates, totalling 5 fits\n",
      "Fitting 5 folds for each of 1 candidates, totalling 5 fits\n",
      "Fitting 5 folds for each of 1 candidates, totalling 5 fits\n",
      "Fitting 5 folds for each of 1 candidates, totalling 5 fits\n",
      "Fitting 5 folds for each of 1 candidates, totalling 5 fits\n",
      "Fitting 5 folds for each of 1 candidates, totalling 5 fits\n",
      "Fitting 5 folds for each of 1 candidates, totalling 5 fits\n",
      "Fitting 5 folds for each of 1 candidates, totalling 5 fits\n",
      "Fitting 5 folds for each of 1 candidates, totalling 5 fits\n",
      "Fitting 5 folds for each of 1 candidates, totalling 5 fits\n",
      "Fitting 5 folds for each of 1 candidates, totalling 5 fits\n",
      "Fitting 5 folds for each of 1 candidates, totalling 5 fits\n",
      "Fitting 5 folds for each of 1 candidates, totalling 5 fits\n",
      "Best Score:  -2.821607654109311\n",
      "Best Hyperparameters:  OrderedDict({'copy_X': False, 'fit_intercept': False, 'positive': False})\n"
     ]
    },
    {
     "data": {
      "image/png": "[encoded data removed]",
      "text/plain": [
       "<Figure size 640x480 with 1 Axes>"
      ]
     },
     "metadata": {},
     "output_type": "display_data"
    }
   ],
   "source": [
    "linear = LinearRegression()\n",
    "\n",
    "linear_search_space = {\n",
    "    \"fit_intercept\": Categorical([True, False]),\n",
    "    \"copy_X\": Categorical([True, False]),\n",
    "    \"positive\": Categorical([True, False])\n",
    "}\n",
    "\n",
    "bayes_search_linear = BayesSearchCV(\n",
    "    estimator=linear,\n",
    "    search_spaces=linear_search_space,\n",
    "    scoring=\"neg_root_mean_squared_error\",\n",
    "    n_iter=25,\n",
    "    cv=5,\n",
    "    n_jobs=-1,\n",
    "    verbose=1,\n",
    "    #random_state=42\n",
    ")\n",
    "\n",
    "bayes_search_linear.fit(X_train_scaled, y_train)\n",
    "\n",
    "print_best_score_params(bayes_search_linear)\n",
    "\n",
    "best_linear = bayes_search_linear.best_estimator_\n",
    "\n",
    "display_and_log_metrics(\n",
    "    best_linear,\n",
    "    \"LinearRegression\",\n",
    "    \"Cristian\",\n",
    "    X_train_scaled, y_train,\n",
    "    X_test_scaled, y_test,\n",
    "    train_df, test_df\n",
    ")"
   ]
  },
  {
   "cell_type": "code",
   "execution_count": null,
   "id": "50843829",
   "metadata": {},
   "outputs": [],
   "source": [
    "\n"
   ]
  }
 ],
 "metadata": {
  "kernelspec": {
   "display_name": "multivariate-regression-vnOMRTaQ-py3.12",
   "language": "python",
   "name": "python3"
  },
  "language_info": {
   "codemirror_mode": {
    "name": "ipython",
    "version": 3
   },
   "file_extension": ".py",
   "mimetype": "text/x-python",
   "name": "python",
   "nbconvert_exporter": "python",
   "pygments_lexer": "ipython3",
   "version": "3.12.9"
  }
 },
 "nbformat": 4,
 "nbformat_minor": 5
}
